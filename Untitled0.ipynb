{
  "nbformat": 4,
  "nbformat_minor": 0,
  "metadata": {
    "colab": {
      "name": "Untitled0.ipynb",
      "provenance": [],
      "include_colab_link": true
    },
    "kernelspec": {
      "name": "python3",
      "display_name": "Python 3"
    },
    "language_info": {
      "name": "python"
    }
  },
  "cells": [
    {
      "cell_type": "markdown",
      "metadata": {
        "id": "view-in-github",
        "colab_type": "text"
      },
      "source": [
        "<a href=\"https://colab.research.google.com/github/davo12312/FIT3164-DataProjectGroup2/blob/main/Untitled0.ipynb\" target=\"_parent\"><img src=\"https://colab.research.google.com/assets/colab-badge.svg\" alt=\"Open In Colab\"/></a>"
      ]
    },
    {
      "cell_type": "code",
      "metadata": {
        "id": "k-noDrvX-hUA"
      },
      "source": [
        "test = \"this is a test\""
      ],
      "execution_count": null,
      "outputs": []
    },
    {
      "cell_type": "code",
      "metadata": {
        "id": "GSCpDN4fCH7y"
      },
      "source": [
        "import json\n",
        "import base64\n",
        "\n",
        "data = {}\n",
        "with open('some.gif', mode='rb') as file:\n",
        "    img = file.read()\n",
        "data['img'] = base64.encodebytes(img).decode('utf-8')\n",
        "\n",
        "print(json.dumps(data))"
      ],
      "execution_count": null,
      "outputs": []
    }
  ]
}